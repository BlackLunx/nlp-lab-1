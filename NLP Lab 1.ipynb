{
 "cells": [
  {
   "cell_type": "code",
   "execution_count": 1,
   "metadata": {},
   "outputs": [],
   "source": [
    "import pandas as pd\n",
    "import seaborn as sns\n",
    "import numpy as np\n",
    "import matplotlib.pyplot as plt\n",
    "import tensorflow as tf\n",
    "from tensorflow import keras\n",
    "from tensorflow.keras import layers\n",
    "import tensorflow_hub as hub\n",
    "from tensorflow.keras import backend as K"
   ]
  },
  {
   "cell_type": "code",
   "execution_count": 5,
   "metadata": {},
   "outputs": [],
   "source": [
    "train = pd.read_csv('Train.csv').head(4000)\n",
    "valid = pd.read_csv('Valid.csv').head(500)"
   ]
  },
  {
   "cell_type": "code",
   "execution_count": 6,
   "metadata": {},
   "outputs": [
    {
     "data": {
      "text/plain": [
       "Text(0.5, 1.0, 'Kernel Distribution of Number of words')"
      ]
     },
     "execution_count": 6,
     "metadata": {},
     "output_type": "execute_result"
    },
    {
     "data": {
      "image/png": "[encoded data removed]",
      "text/plain": [
       "<Figure size 864x432 with 1 Axes>"
      ]
     },
     "metadata": {
      "needs_background": "light"
     },
     "output_type": "display_data"
    }
   ],
   "source": [
    "plt.figure(figsize=(12,6))\n",
    "sns.kdeplot(train['text'].str.lower().str.len(),shade=True,color='r').set_title('Kernel Distribution of Number of words')"
   ]
  },
  {
   "cell_type": "code",
   "execution_count": 7,
   "metadata": {},
   "outputs": [],
   "source": [
    "import string\n",
    "\n",
    "exclude = set(string.punctuation) \n",
    "\n",
    "def rm_punctualtion(x): \n",
    "    try: \n",
    "        x = ''.join(ch for ch in x if ch not in exclude) \n",
    "    except: \n",
    "        pass \n",
    "    return x \n",
    "\n",
    "\n",
    "train['text'] = train['text'].apply(rm_punctualtion).str.lower()\n",
    "valid['text'] = valid['text'].apply(rm_punctualtion).str.lower()"
   ]
  },
  {
   "cell_type": "code",
   "execution_count": 8,
   "metadata": {},
   "outputs": [
    {
     "name": "stderr",
     "output_type": "stream",
     "text": [
      "[nltk_data] Downloading package stopwords to\n",
      "[nltk_data]     C:\\Users\\Mikhail\\AppData\\Roaming\\nltk_data...\n",
      "[nltk_data]   Package stopwords is already up-to-date!\n"
     ]
    }
   ],
   "source": [
    "import nltk\n",
    "from nltk.corpus import stopwords\n",
    "nltk.download('stopwords')\n",
    "stop = stopwords.words('english')\n",
    "\n",
    "def rm_stop_words(x):\n",
    "    return ' '.join([word for word in x.split() if word not in (stop)])\n",
    "\n",
    "train['text'] = train['text'].apply(rm_stop_words)\n",
    "valid['text'] = valid['text'].apply(rm_stop_words)"
   ]
  },
  {
   "cell_type": "markdown",
   "metadata": {},
   "source": [
    "### TfIdf"
   ]
  },
  {
   "cell_type": "code",
   "execution_count": 9,
   "metadata": {},
   "outputs": [],
   "source": [
    "from sklearn.feature_extraction.text import TfidfVectorizer\n",
    "\n",
    "vectorizer = TfidfVectorizer(max_features = 20000,\n",
    "                             sublinear_tf = True,\n",
    "                             use_idf = True)\n",
    "\n",
    "train_vectors = vectorizer.fit_transform(train['text'])\n",
    "valid_vectors = vectorizer.transform(valid['text'])"
   ]
  },
  {
   "cell_type": "code",
   "execution_count": 10,
   "metadata": {},
   "outputs": [
    {
     "data": {
      "text/plain": [
       "numpy.ndarray"
      ]
     },
     "execution_count": 10,
     "metadata": {},
     "output_type": "execute_result"
    }
   ],
   "source": [
    "type(train_vectors.toarray())"
   ]
  },
  {
   "cell_type": "code",
   "execution_count": 11,
   "metadata": {},
   "outputs": [],
   "source": [
    "\n",
    "def get_model():\n",
    "    inputs = keras.Input(shape=(train_vectors.shape[1],))\n",
    "    layer1 = layers.Dense(32, activation = \"relu\")(inputs)\n",
    "    layer2 = layers.Dropout(0.5)(layer1)\n",
    "    layer3 = layers.Dense(1,activation = \"sigmoid\")(layer2)\n",
    "    model = keras.Model(inputs = inputs, outputs = layer3)\n",
    "    model.compile(optimizer= \"adam\", loss= 'binary_crossentropy' ,metrics = [\"accuracy\"])\n",
    "    return model"
   ]
  },
  {
   "cell_type": "code",
   "execution_count": 12,
   "metadata": {},
   "outputs": [
    {
     "name": "stdout",
     "output_type": "stream",
     "text": [
      "Model: \"model\"\n",
      "_________________________________________________________________\n",
      " Layer (type)                Output Shape              Param #   \n",
      "=================================================================\n",
      " input_1 (InputLayer)        [(None, 20000)]           0         \n",
      "                                                                 \n",
      " dense (Dense)               (None, 32)                640032    \n",
      "                                                                 \n",
      " dropout (Dropout)           (None, 32)                0         \n",
      "                                                                 \n",
      " dense_1 (Dense)             (None, 1)                 33        \n",
      "                                                                 \n",
      "=================================================================\n",
      "Total params: 640,065\n",
      "Trainable params: 640,065\n",
      "Non-trainable params: 0\n",
      "_________________________________________________________________\n"
     ]
    }
   ],
   "source": [
    "get_model().summary()"
   ]
  },
  {
   "cell_type": "code",
   "execution_count": 13,
   "metadata": {},
   "outputs": [
    {
     "name": "stdout",
     "output_type": "stream",
     "text": [
      "Epoch 1/10\n",
      "113/125 [==========================>...] - ETA: 0s - loss: 0.6525 - accuracy: 0.6845\n",
      "Epoch 00001: val_loss improved from inf to 0.57953, saving model to model.h5\n",
      "125/125 [==============================] - 11s 12ms/step - loss: 0.6459 - accuracy: 0.6992 - val_loss: 0.5795 - val_accuracy: 0.8220\n",
      "Epoch 2/10\n",
      "119/125 [===========================>..] - ETA: 0s - loss: 0.4622 - accuracy: 0.8997\n",
      "Epoch 00002: val_loss improved from 0.57953 to 0.44571, saving model to model.h5\n",
      "125/125 [==============================] - 1s 5ms/step - loss: 0.4594 - accuracy: 0.8997 - val_loss: 0.4457 - val_accuracy: 0.8540\n",
      "Epoch 3/10\n",
      "117/125 [===========================>..] - ETA: 0s - loss: 0.3001 - accuracy: 0.9412\n",
      "Epoch 00003: val_loss improved from 0.44571 to 0.37027, saving model to model.h5\n",
      "125/125 [==============================] - 1s 5ms/step - loss: 0.2984 - accuracy: 0.9420 - val_loss: 0.3703 - val_accuracy: 0.8600\n",
      "Epoch 4/10\n",
      "122/125 [============================>.] - ETA: 0s - loss: 0.2009 - accuracy: 0.9698\n",
      "Epoch 00004: val_loss improved from 0.37027 to 0.33871, saving model to model.h5\n",
      "125/125 [==============================] - 1s 5ms/step - loss: 0.1993 - accuracy: 0.9705 - val_loss: 0.3387 - val_accuracy: 0.8620\n",
      "Epoch 5/10\n",
      "123/125 [============================>.] - ETA: 0s - loss: 0.1370 - accuracy: 0.9812\n",
      "Epoch 00005: val_loss improved from 0.33871 to 0.32588, saving model to model.h5\n",
      "125/125 [==============================] - 1s 5ms/step - loss: 0.1369 - accuracy: 0.9810 - val_loss: 0.3259 - val_accuracy: 0.8720\n",
      "Epoch 6/10\n",
      "124/125 [============================>.] - ETA: 0s - loss: 0.0993 - accuracy: 0.9909\n",
      "Epoch 00006: val_loss improved from 0.32588 to 0.32474, saving model to model.h5\n",
      "125/125 [==============================] - 1s 5ms/step - loss: 0.0992 - accuracy: 0.9910 - val_loss: 0.3247 - val_accuracy: 0.8680\n",
      "Epoch 7/10\n",
      "122/125 [============================>.] - ETA: 0s - loss: 0.0742 - accuracy: 0.9933\n",
      "Epoch 00007: val_loss improved from 0.32474 to 0.32359, saving model to model.h5\n",
      "125/125 [==============================] - 1s 5ms/step - loss: 0.0747 - accuracy: 0.9927 - val_loss: 0.3236 - val_accuracy: 0.8660\n",
      "Epoch 8/10\n",
      "120/125 [===========================>..] - ETA: 0s - loss: 0.0564 - accuracy: 0.9945\n",
      "Epoch 00008: val_loss did not improve from 0.32359\n",
      "125/125 [==============================] - 1s 5ms/step - loss: 0.0560 - accuracy: 0.9948 - val_loss: 0.3292 - val_accuracy: 0.8660\n",
      "Epoch 9/10\n",
      "118/125 [===========================>..] - ETA: 0s - loss: 0.0457 - accuracy: 0.9976\n",
      "Epoch 00009: val_loss did not improve from 0.32359\n",
      "125/125 [==============================] - 1s 5ms/step - loss: 0.0457 - accuracy: 0.9975 - val_loss: 0.3381 - val_accuracy: 0.8660\n",
      "Epoch 10/10\n",
      "114/125 [==========================>...] - ETA: 0s - loss: 0.0345 - accuracy: 0.9986\n",
      "Epoch 00010: val_loss did not improve from 0.32359\n",
      "125/125 [==============================] - 1s 4ms/step - loss: 0.0347 - accuracy: 0.9985 - val_loss: 0.3421 - val_accuracy: 0.8620\n"
     ]
    }
   ],
   "source": [
    "callbacks_list = [\n",
    "    keras.callbacks.ModelCheckpoint(\n",
    "        filepath='model.h5',\n",
    "        monitor='val_loss', save_best_only=True, verbose=1),\n",
    "    keras.callbacks.EarlyStopping(monitor='val_loss', patience=10,verbose=1)\n",
    "]\n",
    "model = get_model()\n",
    "history = model.fit(\n",
    "    train_vectors.toarray(), train['label'], \n",
    "    epochs=10, \n",
    "    verbose=1,\n",
    "    callbacks = callbacks_list,\n",
    "    validation_data=(valid_vectors.toarray(), valid['label']))"
   ]
  },
  {
   "cell_type": "code",
   "execution_count": 14,
   "metadata": {},
   "outputs": [],
   "source": [
    "\n",
    "def print_graph():\n",
    "    fig, ax = plt.subplots(1,2, figsize=(16,8))\n",
    "    ax[0].plot(history.history['loss'], color='b', label=\"Training loss\")\n",
    "    ax[0].plot(history.history['val_loss'], color='r', label=\"validation loss\",axes =ax[0])\n",
    "    legend = ax[0].legend(loc='best', shadow=True)\n",
    "\n",
    "    ax[1].plot(history.history['accuracy'], color='b', label=\"Training accuracy\")\n",
    "    ax[1].plot(history.history['val_accuracy'], color='r',label=\"Validation accuracy\")\n",
    "    legend = ax[1].legend(loc='best', shadow=True)"
   ]
  },
  {
   "cell_type": "code",
   "execution_count": 15,
   "metadata": {
    "scrolled": false
   },
   "outputs": [
    {
     "data": {
      "image/png": "[encoded data removed]",
      "text/plain": [
       "<Figure size 1152x576 with 2 Axes>"
      ]
     },
     "metadata": {
      "needs_background": "light"
     },
     "output_type": "display_data"
    }
   ],
   "source": [
    "print_graph()"
   ]
  },
  {
   "cell_type": "markdown",
   "metadata": {},
   "source": [
    "Validation loss уже не падает, как и не растет точность модели на валидации, в целом, ответ лучше, чем статистически предсказывать. В этом методе, если я не ошибаюсь, мы считаем частоту встречания слова ии нверсию частоты, с которой некоторое слово встречается в документах коллекции."
   ]
  },
  {
   "cell_type": "markdown",
   "metadata": {},
   "source": [
    "### WordToVec"
   ]
  },
  {
   "cell_type": "code",
   "execution_count": 2,
   "metadata": {},
   "outputs": [],
   "source": [
    "train = pd.read_csv('Train.csv').head(4000)\n",
    "valid = pd.read_csv('Valid.csv').head(500)"
   ]
  },
  {
   "cell_type": "code",
   "execution_count": 3,
   "metadata": {},
   "outputs": [
    {
     "data": {
      "text/html": [
       "<div>\n",
       "<style scoped>\n",
       "    .dataframe tbody tr th:only-of-type {\n",
       "        vertical-align: middle;\n",
       "    }\n",
       "\n",
       "    .dataframe tbody tr th {\n",
       "        vertical-align: top;\n",
       "    }\n",
       "\n",
       "    .dataframe thead th {\n",
       "        text-align: right;\n",
       "    }\n",
       "</style>\n",
       "<table border=\"1\" class=\"dataframe\">\n",
       "  <thead>\n",
       "    <tr style=\"text-align: right;\">\n",
       "      <th></th>\n",
       "      <th>text</th>\n",
       "      <th>label</th>\n",
       "      <th>tokenized_text</th>\n",
       "    </tr>\n",
       "  </thead>\n",
       "  <tbody>\n",
       "    <tr>\n",
       "      <th>0</th>\n",
       "      <td>I grew up (b. 1965) watching and loving the Th...</td>\n",
       "      <td>0</td>\n",
       "      <td>[grew, up, watching, and, loving, the, thunder...</td>\n",
       "    </tr>\n",
       "    <tr>\n",
       "      <th>1</th>\n",
       "      <td>When I put this movie in my DVD player, and sa...</td>\n",
       "      <td>0</td>\n",
       "      <td>[when, put, this, movie, in, my, dvd, player, ...</td>\n",
       "    </tr>\n",
       "    <tr>\n",
       "      <th>2</th>\n",
       "      <td>Why do people who do not know what a particula...</td>\n",
       "      <td>0</td>\n",
       "      <td>[why, do, people, who, do, not, know, what, pa...</td>\n",
       "    </tr>\n",
       "    <tr>\n",
       "      <th>3</th>\n",
       "      <td>Even though I have great interest in Biblical ...</td>\n",
       "      <td>0</td>\n",
       "      <td>[even, though, have, great, interest, in, bibl...</td>\n",
       "    </tr>\n",
       "    <tr>\n",
       "      <th>4</th>\n",
       "      <td>Im a die hard Dads Army fan and nothing will e...</td>\n",
       "      <td>1</td>\n",
       "      <td>[im, die, hard, dads, army, fan, and, nothing,...</td>\n",
       "    </tr>\n",
       "  </tbody>\n",
       "</table>\n",
       "</div>"
      ],
      "text/plain": [
       "                                                text  label  \\\n",
       "0  I grew up (b. 1965) watching and loving the Th...      0   \n",
       "1  When I put this movie in my DVD player, and sa...      0   \n",
       "2  Why do people who do not know what a particula...      0   \n",
       "3  Even though I have great interest in Biblical ...      0   \n",
       "4  Im a die hard Dads Army fan and nothing will e...      1   \n",
       "\n",
       "                                      tokenized_text  \n",
       "0  [grew, up, watching, and, loving, the, thunder...  \n",
       "1  [when, put, this, movie, in, my, dvd, player, ...  \n",
       "2  [why, do, people, who, do, not, know, what, pa...  \n",
       "3  [even, though, have, great, interest, in, bibl...  \n",
       "4  [im, die, hard, dads, army, fan, and, nothing,...  "
      ]
     },
     "execution_count": 3,
     "metadata": {},
     "output_type": "execute_result"
    }
   ],
   "source": [
    "from gensim.utils import simple_preprocess\n",
    "def simple_preprocess_(data):\n",
    "    data['tokenized_text'] = [simple_preprocess(line, deacc=True) for line in data['text']]\n",
    "simple_preprocess_(train)\n",
    "simple_preprocess_(valid)\n",
    "train.head(5)"
   ]
  },
  {
   "cell_type": "code",
   "execution_count": 4,
   "metadata": {
    "scrolled": true
   },
   "outputs": [
    {
     "data": {
      "text/html": [
       "<div>\n",
       "<style scoped>\n",
       "    .dataframe tbody tr th:only-of-type {\n",
       "        vertical-align: middle;\n",
       "    }\n",
       "\n",
       "    .dataframe tbody tr th {\n",
       "        vertical-align: top;\n",
       "    }\n",
       "\n",
       "    .dataframe thead th {\n",
       "        text-align: right;\n",
       "    }\n",
       "</style>\n",
       "<table border=\"1\" class=\"dataframe\">\n",
       "  <thead>\n",
       "    <tr style=\"text-align: right;\">\n",
       "      <th></th>\n",
       "      <th>text</th>\n",
       "      <th>label</th>\n",
       "      <th>tokenized_text</th>\n",
       "      <th>stemmed_tokens</th>\n",
       "    </tr>\n",
       "  </thead>\n",
       "  <tbody>\n",
       "    <tr>\n",
       "      <th>0</th>\n",
       "      <td>I grew up (b. 1965) watching and loving the Th...</td>\n",
       "      <td>0</td>\n",
       "      <td>[grew, up, watching, and, loving, the, thunder...</td>\n",
       "      <td>[grew, up, watch, and, love, the, thunderbird,...</td>\n",
       "    </tr>\n",
       "    <tr>\n",
       "      <th>1</th>\n",
       "      <td>When I put this movie in my DVD player, and sa...</td>\n",
       "      <td>0</td>\n",
       "      <td>[when, put, this, movie, in, my, dvd, player, ...</td>\n",
       "      <td>[when, put, thi, movi, in, my, dvd, player, an...</td>\n",
       "    </tr>\n",
       "    <tr>\n",
       "      <th>2</th>\n",
       "      <td>Why do people who do not know what a particula...</td>\n",
       "      <td>0</td>\n",
       "      <td>[why, do, people, who, do, not, know, what, pa...</td>\n",
       "      <td>[why, do, peopl, who, do, not, know, what, par...</td>\n",
       "    </tr>\n",
       "    <tr>\n",
       "      <th>3</th>\n",
       "      <td>Even though I have great interest in Biblical ...</td>\n",
       "      <td>0</td>\n",
       "      <td>[even, though, have, great, interest, in, bibl...</td>\n",
       "      <td>[even, though, have, great, interest, in, bibl...</td>\n",
       "    </tr>\n",
       "    <tr>\n",
       "      <th>4</th>\n",
       "      <td>Im a die hard Dads Army fan and nothing will e...</td>\n",
       "      <td>1</td>\n",
       "      <td>[im, die, hard, dads, army, fan, and, nothing,...</td>\n",
       "      <td>[im, die, hard, dad, armi, fan, and, noth, wil...</td>\n",
       "    </tr>\n",
       "  </tbody>\n",
       "</table>\n",
       "</div>"
      ],
      "text/plain": [
       "                                                text  label  \\\n",
       "0  I grew up (b. 1965) watching and loving the Th...      0   \n",
       "1  When I put this movie in my DVD player, and sa...      0   \n",
       "2  Why do people who do not know what a particula...      0   \n",
       "3  Even though I have great interest in Biblical ...      0   \n",
       "4  Im a die hard Dads Army fan and nothing will e...      1   \n",
       "\n",
       "                                      tokenized_text  \\\n",
       "0  [grew, up, watching, and, loving, the, thunder...   \n",
       "1  [when, put, this, movie, in, my, dvd, player, ...   \n",
       "2  [why, do, people, who, do, not, know, what, pa...   \n",
       "3  [even, though, have, great, interest, in, bibl...   \n",
       "4  [im, die, hard, dads, army, fan, and, nothing,...   \n",
       "\n",
       "                                      stemmed_tokens  \n",
       "0  [grew, up, watch, and, love, the, thunderbird,...  \n",
       "1  [when, put, thi, movi, in, my, dvd, player, an...  \n",
       "2  [why, do, peopl, who, do, not, know, what, par...  \n",
       "3  [even, though, have, great, interest, in, bibl...  \n",
       "4  [im, die, hard, dad, armi, fan, and, noth, wil...  "
      ]
     },
     "execution_count": 4,
     "metadata": {},
     "output_type": "execute_result"
    }
   ],
   "source": [
    "from gensim.parsing.porter import PorterStemmer\n",
    "def stemm_tokens(data):\n",
    "    porter_stemmer = PorterStemmer()\n",
    "    data['stemmed_tokens'] = [[porter_stemmer.stem(word) for word in tokens] for tokens in data['tokenized_text']]\n",
    "stemm_tokens(train)\n",
    "stemm_tokens(valid)\n",
    "train.head(5)"
   ]
  },
  {
   "cell_type": "markdown",
   "metadata": {},
   "source": [
    "Объединим все предложения и добавим падинг"
   ]
  },
  {
   "cell_type": "code",
   "execution_count": 5,
   "metadata": {},
   "outputs": [],
   "source": [
    "from gensim.models import Word2Vec\n",
    "w2v_size = 32\n",
    "samples = list(pd.concat([train['stemmed_tokens'], valid['stemmed_tokens']], ignore_index=True).values)\n",
    "for i in range(10):\n",
    "    samples.append(['pad'])\n",
    "w2vm = Word2Vec(samples, iter=15, min_count=10, size=w2v_size, workers=4)"
   ]
  },
  {
   "cell_type": "code",
   "execution_count": 6,
   "metadata": {},
   "outputs": [
    {
     "data": {
      "text/plain": [
       "False"
      ]
     },
     "execution_count": 6,
     "metadata": {},
     "output_type": "execute_result"
    }
   ],
   "source": [
    "'pad' not in w2vm.wv.vocab"
   ]
  },
  {
   "cell_type": "code",
   "execution_count": 7,
   "metadata": {},
   "outputs": [],
   "source": [
    "max_len = pd.concat([train['stemmed_tokens'], valid['stemmed_tokens']], ignore_index=True).map(len).max()\n",
    "def make_matrix(row):\n",
    "    arr = np.zeros((max_len, w2v_size), dtype='float32')\n",
    "    arr[:] = w2vm.wv['pad']\n",
    "    for i, x in enumerate(row):\n",
    "        if x not in w2vm.wv.vocab:\n",
    "            arr[i] = w2vm.wv['pad']\n",
    "        else:\n",
    "            arr[i] = w2vm.wv[x]\n",
    "    return arr"
   ]
  },
  {
   "cell_type": "code",
   "execution_count": 8,
   "metadata": {},
   "outputs": [],
   "source": [
    "import sys\n",
    "new_path = r'.\\pytorch-fitmodule'\n",
    "sys.path.append(new_path)"
   ]
  },
  {
   "cell_type": "code",
   "execution_count": 10,
   "metadata": {},
   "outputs": [
    {
     "name": "stdout",
     "output_type": "stream",
     "text": [
      "Epoch 1 / 20\n",
      "[========================================] 100%\tloss: 0.7966loss: 0.7966    accuracy: 0.4898    val_loss: 0.6895    val_accuracy: 0.5240\n",
      "\n",
      "Epoch 2 / 20\n",
      "[========================================] 100%\tloss: 0.6822loss: 0.6822    accuracy: 0.5705    val_loss: 0.6729    val_accuracy: 0.5500\n",
      "\n",
      "Epoch 3 / 20\n",
      "[========================================] 100%\tloss: 0.6486loss: 0.6486    accuracy: 0.6968    val_loss: 0.6240    val_accuracy: 0.6960\n",
      "\n",
      "Epoch 4 / 20\n",
      "[========================================] 100%\tloss: 0.6209loss: 0.6209    accuracy: 0.7345    val_loss: 0.5879    val_accuracy: 0.7180\n",
      "\n",
      "Epoch 5 / 20\n",
      "[========================================] 100%\tloss: 0.5655loss: 0.5655    accuracy: 0.7503    val_loss: 0.5494    val_accuracy: 0.7420\n",
      "\n",
      "Epoch 6 / 20\n",
      "[========================================] 100%\tloss: 0.5399loss: 0.5399    accuracy: 0.7440    val_loss: 0.5264    val_accuracy: 0.7500\n",
      "\n",
      "Epoch 7 / 20\n",
      "[========================================] 100%\tloss: 0.5157loss: 0.5157    accuracy: 0.7843    val_loss: 0.5018    val_accuracy: 0.7660\n",
      "\n",
      "Epoch 8 / 20\n",
      "[========================================] 100%\tloss: 0.4798loss: 0.4798    accuracy: 0.7773    val_loss: 0.4854    val_accuracy: 0.7660\n",
      "\n",
      "Epoch 9 / 20\n",
      "[========================================] 100%\tloss: 0.4593loss: 0.4593    accuracy: 0.8033    val_loss: 0.4616    val_accuracy: 0.7980\n",
      "\n",
      "Epoch 10 / 20\n",
      "[========================================] 100%\tloss: 0.4313loss: 0.4313    accuracy: 0.8243    val_loss: 0.4513    val_accuracy: 0.8000\n",
      "\n",
      "Epoch 11 / 20\n",
      "[========================================] 100%\tloss: 0.4099loss: 0.4099    accuracy: 0.8348    val_loss: 0.4378    val_accuracy: 0.8040\n",
      "\n",
      "Epoch 12 / 20\n",
      "[========================================] 100%\tloss: 0.3934loss: 0.3934    accuracy: 0.8470    val_loss: 0.4271    val_accuracy: 0.8040\n",
      "\n",
      "Epoch 13 / 20\n",
      "[========================================] 100%\tloss: 0.3717loss: 0.3717    accuracy: 0.8583    val_loss: 0.4178    val_accuracy: 0.8040\n",
      "\n",
      "Epoch 14 / 20\n",
      "[========================================] 100%\tloss: 0.3566loss: 0.3566    accuracy: 0.8685    val_loss: 0.4106    val_accuracy: 0.8060\n",
      "\n",
      "Epoch 15 / 20\n",
      "[========================================] 100%\tloss: 0.3470loss: 0.3470    accuracy: 0.8713    val_loss: 0.4066    val_accuracy: 0.8100\n",
      "\n",
      "Epoch 16 / 20\n",
      "[========================================] 100%\tloss: 0.3206loss: 0.3206    accuracy: 0.8855    val_loss: 0.4036    val_accuracy: 0.8120\n",
      "\n",
      "Epoch 17 / 20\n",
      "[========================================] 100%\tloss: 0.3124loss: 0.3124    accuracy: 0.8875    val_loss: 0.4108    val_accuracy: 0.8160\n",
      "\n",
      "Epoch 18 / 20\n",
      "[========================================] 100%\tloss: 0.2964loss: 0.2964    accuracy: 0.8985    val_loss: 0.4040    val_accuracy: 0.8220\n",
      "\n",
      "Epoch 19 / 20\n",
      "[========================================] 100%\tloss: 0.2819loss: 0.2819    accuracy: 0.9063    val_loss: 0.3960    val_accuracy: 0.8220\n",
      "\n",
      "Epoch 20 / 20\n",
      "[========================================] 100%\tloss: 0.2652loss: 0.2652    accuracy: 0.9133    val_loss: 0.3950    val_accuracy: 0.8220\n",
      "\n"
     ]
    }
   ],
   "source": [
    "import torch\n",
    "import torch.nn as nn\n",
    "import torch.nn.functional as F\n",
    "from pytorch_fitmodule import FitModule\n",
    "device = torch.device('cuda' if torch.cuda.is_available() else 'cpu')\n",
    "class NLPConv(FitModule):\n",
    "    def __init__(self, emb_size, window_sizes=(1, 2, 3, 4, 5)):\n",
    "        super(NLPConv, self).__init__()\n",
    "        self.convs = nn.ModuleList([\n",
    "           nn.Conv2d(1, 32, [window_size, emb_size], padding=(window_size - 1, 0))\n",
    "           for window_size in window_sizes\n",
    "        ])\n",
    "        self.drop_out = nn.Dropout()\n",
    "        self.fc1 = nn.Linear(emb_size * len(window_sizes), 1)\n",
    "        self.sig = nn.Sigmoid()\n",
    "    def forward(self, x):\n",
    "        #out = self.layer1(x)\n",
    "        xs = []\n",
    "        for conv in self.convs:\n",
    "            x2 = torch.relu(conv(x))\n",
    "            x2 = torch.squeeze(x2, -1)\n",
    "            x2 = F.max_pool1d(x2, x2.size(2))\n",
    "            xs.append(x2)\n",
    "        x = torch.cat(xs, 2)\n",
    "        out = x.reshape(x.size(0), -1)\n",
    "        out = self.drop_out(out)\n",
    "        out = self.fc1(out)\n",
    "        return self.sig(out).reshape(out.size(0))\n",
    "\n",
    "f = NLPConv(w2v_size)\n",
    "f.to(device)\n",
    "def accuracy(y_true, y_pred):\n",
    "    return (y_true == y_pred.round()).sum() / y_true.size(0)\n",
    "train_vector = torch.from_numpy(np.array(list(train['stemmed_tokens'].apply(make_matrix)))).view(4000, 1, max_len, w2v_size).to(device)\n",
    "train_target = torch.from_numpy(np.array(train['label'], dtype='float32')).to(device)\n",
    "valid_vector = torch.from_numpy(np.array(list(valid['stemmed_tokens'].apply(make_matrix)))).view(500, 1, max_len, w2v_size).to(device)\n",
    "valid_target = torch.from_numpy(np.array(valid['label'], dtype='float32')).to(device)\n",
    "history = f.fit(train_vector, train_target, epochs=20, loss=nn.BCELoss(), validation_data=(valid_vector, valid_target), metrics=[accuracy])"
   ]
  },
  {
   "cell_type": "code",
   "execution_count": 11,
   "metadata": {},
   "outputs": [],
   "source": [
    "from collections import defaultdict\n",
    "def print_graph(data):\n",
    "    columns = ['loss', 'val_loss', 'accuracy', 'val_accuracy']\n",
    "    history = defaultdict(list)\n",
    "    for x in data:\n",
    "        for col in columns:\n",
    "            history[col].append(x[col])\n",
    "    fig, ax = plt.subplots(1,2, figsize=(16,8))\n",
    "    ax[0].plot(history['loss'], color='b', label=\"Training loss\")\n",
    "    ax[0].plot(history['val_loss'], color='r', label=\"validation loss\",axes =ax[0])\n",
    "    legend = ax[0].legend(loc='best', shadow=True)\n",
    "\n",
    "    ax[1].plot(history['accuracy'], color='b', label=\"Training accuracy\")\n",
    "    ax[1].plot(history['val_accuracy'], color='r',label=\"Validation accuracy\")\n",
    "    legend = ax[1].legend(loc='best', shadow=True)"
   ]
  },
  {
   "cell_type": "code",
   "execution_count": 12,
   "metadata": {},
   "outputs": [
    {
     "data": {
      "image/png": "[encoded data removed]",
      "text/plain": [
       "<Figure size 1152x576 with 2 Axes>"
      ]
     },
     "metadata": {
      "needs_background": "light"
     },
     "output_type": "display_data"
    }
   ],
   "source": [
    "print_graph(history)"
   ]
  },
  {
   "cell_type": "markdown",
   "metadata": {},
   "source": [
    "Охх, ну и намучился. Сначала написал такую же сетку на tensorflow, но у меня умирал kernel, решил написать на pytorch, но намучился с левой библиотекой (pytorch_fitmodule), скорее всего просто выкачать и запустить у человека не получится, потому что я в ней исправил 10 ошибок где-то. А в итоге сеть более заметно улучшается, но не лучше, чем с методом TfIdf. Тут я использовал эмбединги, обучил их сам и сверточную сеть, в которой сворачивал все эмбединги и по несколько слов из предложения."
   ]
  },
  {
   "cell_type": "code",
   "execution_count": null,
   "metadata": {},
   "outputs": [],
   "source": []
  }
 ],
 "metadata": {
  "kernelspec": {
   "display_name": "Python 3",
   "language": "python",
   "name": "python3"
  },
  "language_info": {
   "codemirror_mode": {
    "name": "ipython",
    "version": 3
   },
   "file_extension": ".py",
   "mimetype": "text/x-python",
   "name": "python",
   "nbconvert_exporter": "python",
   "pygments_lexer": "ipython3",
   "version": "3.8.3"
  }
 },
 "nbformat": 4,
 "nbformat_minor": 4
}
